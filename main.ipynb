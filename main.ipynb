{
 "cells": [
  {
   "cell_type": "code",
   "metadata": {
    "ExecuteTime": {
     "end_time": "2025-04-01T09:13:53.407401Z",
     "start_time": "2025-04-01T09:13:52.881872Z"
    }
   },
   "source": [
    "import pandas as pd\n",
    "from sqlalchemy import create_engine\n",
    "import dotenv\n",
    "import os\n",
    "\n",
    "dotenv.load_dotenv()\n",
    "\n",
    "PG_PASSWORD = os.getenv(\"PG_PASSWORD\")\n",
    "PG_USER = os.getenv(\"PG_USER\")\n",
    "PG_HOST = os.getenv(\"PG_HOST\")\n",
    "PG_PORT = os.getenv(\"PG_PORT\")\n",
    "PG_DATABASE = os.getenv(\"PG_DB\")\n",
    "\n",
    "# SQLAlchemy engine\n",
    "engine = create_engine(\n",
    "    f\"postgresql+psycopg2://{PG_USER}:{PG_PASSWORD}@{PG_HOST}:{PG_PORT}/{PG_DATABASE}?sslmode=require\"\n",
    ")\n",
    "\n",
    "# Create a connection object from the engine\n",
    "conn = engine.connect()"
   ],
   "outputs": [],
   "execution_count": 7
  },
  {
   "cell_type": "code",
   "metadata": {
    "ExecuteTime": {
     "end_time": "2025-04-01T09:13:53.462343Z",
     "start_time": "2025-04-01T09:13:53.426432Z"
    }
   },
   "source": [
    "\n",
    "def get_table_names():\n",
    "    query = \"\"\"\n",
    "    SELECT table_name\n",
    "    FROM information_schema.tables\n",
    "    WHERE table_schema = 'public'\n",
    "    \"\"\"\n",
    "    df = pd.read_sql(query, conn)\n",
    "    return df[\"table_name\"].tolist()\n",
    "\n",
    "get_table_names()\n"
   ],
   "outputs": [
    {
     "data": {
      "text/plain": [
       "['eventtypes',\n",
       " 'matches',\n",
       " 'matchevents',\n",
       " 'player_tracking',\n",
       " 'players',\n",
       " 'qualifiers',\n",
       " 'qualifiertypes',\n",
       " 'spadl_actions',\n",
       " 'teams',\n",
       " 'role_passwords']"
      ]
     },
     "execution_count": 8,
     "metadata": {},
     "output_type": "execute_result"
    }
   ],
   "execution_count": 8
  },
  {
   "cell_type": "code",
   "metadata": {
    "ExecuteTime": {
     "end_time": "2025-04-01T09:13:53.527207Z",
     "start_time": "2025-04-01T09:13:53.498930Z"
    }
   },
   "source": [
    "\n",
    "def get_table_info(table_name):\n",
    "    query = f\"\"\"\n",
    "    SELECT column_name, data_type\n",
    "    FROM information_schema.columns\n",
    "    WHERE table_name = '{table_name}'\n",
    "    \"\"\"\n",
    "    df = pd.read_sql(query, conn)\n",
    "    return df\n",
    "\n",
    "get_table_info(\"matches\")"
   ],
   "outputs": [
    {
     "data": {
      "text/plain": [
       "    column_name                    data_type\n",
       "0      match_id            character varying\n",
       "1    match_date  timestamp without time zone\n",
       "2  home_team_id            character varying\n",
       "3  away_team_id            character varying\n",
       "4    home_score                      integer\n",
       "5    away_score                      integer"
      ],
      "text/html": [
       "<div>\n",
       "<style scoped>\n",
       "    .dataframe tbody tr th:only-of-type {\n",
       "        vertical-align: middle;\n",
       "    }\n",
       "\n",
       "    .dataframe tbody tr th {\n",
       "        vertical-align: top;\n",
       "    }\n",
       "\n",
       "    .dataframe thead th {\n",
       "        text-align: right;\n",
       "    }\n",
       "</style>\n",
       "<table border=\"1\" class=\"dataframe\">\n",
       "  <thead>\n",
       "    <tr style=\"text-align: right;\">\n",
       "      <th></th>\n",
       "      <th>column_name</th>\n",
       "      <th>data_type</th>\n",
       "    </tr>\n",
       "  </thead>\n",
       "  <tbody>\n",
       "    <tr>\n",
       "      <th>0</th>\n",
       "      <td>match_id</td>\n",
       "      <td>character varying</td>\n",
       "    </tr>\n",
       "    <tr>\n",
       "      <th>1</th>\n",
       "      <td>match_date</td>\n",
       "      <td>timestamp without time zone</td>\n",
       "    </tr>\n",
       "    <tr>\n",
       "      <th>2</th>\n",
       "      <td>home_team_id</td>\n",
       "      <td>character varying</td>\n",
       "    </tr>\n",
       "    <tr>\n",
       "      <th>3</th>\n",
       "      <td>away_team_id</td>\n",
       "      <td>character varying</td>\n",
       "    </tr>\n",
       "    <tr>\n",
       "      <th>4</th>\n",
       "      <td>home_score</td>\n",
       "      <td>integer</td>\n",
       "    </tr>\n",
       "    <tr>\n",
       "      <th>5</th>\n",
       "      <td>away_score</td>\n",
       "      <td>integer</td>\n",
       "    </tr>\n",
       "  </tbody>\n",
       "</table>\n",
       "</div>"
      ]
     },
     "execution_count": 9,
     "metadata": {},
     "output_type": "execute_result"
    }
   ],
   "execution_count": 9
  },
  {
   "cell_type": "code",
   "metadata": {
    "ExecuteTime": {
     "end_time": "2025-04-01T09:13:53.769135Z",
     "start_time": "2025-04-01T09:13:53.637928Z"
    }
   },
   "source": [
    "def get_table_rows(table_name):\n",
    "    query = f\"SELECT * FROM {table_name}\"\n",
    "    df = pd.read_sql(query, conn)\n",
    "    return df\n",
    "get_table_rows(\"matches\")\n"
   ],
   "outputs": [
    {
     "data": {
      "text/plain": [
       "                      match_id match_date               home_team_id  \\\n",
       "0    5oc8drrbruovbuiriyhdyiyok 2024-07-26  1oyb7oym5nwzny8vxf03szd2h   \n",
       "1    5r7lyj3frtml3aqy458jrxj4k 2024-07-28  920raeoumft3q2wmvc296uceo   \n",
       "2    5ptnar4qtaltvcfsjdw9vzhg4 2024-07-27  6vyr13j6kbwdtxjwm1m4m8nu2   \n",
       "3    5qqz2do47zjms7rfrwzcths7o 2024-07-28   1uk609mhtsfhokhaewjapb26   \n",
       "4    5pcyhm34h5c948yji4oryevpw 2024-07-27  cyrrlv6l1onld5x247w1q1jlr   \n",
       "..                         ...        ...                        ...   \n",
       "141  77w03jwg8cs1dkqemcax540t0 2024-12-13  b7jmo07lqav0wfe2mtlzyspak   \n",
       "142  789p8p9wchivsno0m437haeqc 2024-12-15  2989v3kho9h5jaboe1nr7lx21   \n",
       "143  78nndczlbj2214zhtbfahs2s4 2024-12-22  ecj1gmc7pqcjo4sc9hvghj5u3   \n",
       "144  791cri1kfsl6c1h5ozv0iqcyc 2024-12-22  89xivtxk59uzvhdsd6miao6tm   \n",
       "145  79f5dbff5pb9kvzx13htimk9g 2024-12-22  5z1b7fuvpqe6vnigvopomvecu   \n",
       "\n",
       "                  away_team_id  home_score  away_score  \n",
       "0    b7jmo07lqav0wfe2mtlzyspak           1           1  \n",
       "1    7zibyotq1x1hq6pmgibhr0e6s           0           1  \n",
       "2    2989v3kho9h5jaboe1nr7lx21           1           0  \n",
       "3    8y3iucyxguipljcmf87a11bk9           0           1  \n",
       "4    bw9wm8pqfzcchumhiwdt2w15c           0           0  \n",
       "..                         ...         ...         ...  \n",
       "141  7zibyotq1x1hq6pmgibhr0e6s           1           1  \n",
       "142  6vyr13j6kbwdtxjwm1m4m8nu2           0           2  \n",
       "143  1oyb7oym5nwzny8vxf03szd2h           2           2  \n",
       "144  6vyr13j6kbwdtxjwm1m4m8nu2           2           0  \n",
       "145  8y3iucyxguipljcmf87a11bk9           0           1  \n",
       "\n",
       "[146 rows x 6 columns]"
      ],
      "text/html": [
       "<div>\n",
       "<style scoped>\n",
       "    .dataframe tbody tr th:only-of-type {\n",
       "        vertical-align: middle;\n",
       "    }\n",
       "\n",
       "    .dataframe tbody tr th {\n",
       "        vertical-align: top;\n",
       "    }\n",
       "\n",
       "    .dataframe thead th {\n",
       "        text-align: right;\n",
       "    }\n",
       "</style>\n",
       "<table border=\"1\" class=\"dataframe\">\n",
       "  <thead>\n",
       "    <tr style=\"text-align: right;\">\n",
       "      <th></th>\n",
       "      <th>match_id</th>\n",
       "      <th>match_date</th>\n",
       "      <th>home_team_id</th>\n",
       "      <th>away_team_id</th>\n",
       "      <th>home_score</th>\n",
       "      <th>away_score</th>\n",
       "    </tr>\n",
       "  </thead>\n",
       "  <tbody>\n",
       "    <tr>\n",
       "      <th>0</th>\n",
       "      <td>5oc8drrbruovbuiriyhdyiyok</td>\n",
       "      <td>2024-07-26</td>\n",
       "      <td>1oyb7oym5nwzny8vxf03szd2h</td>\n",
       "      <td>b7jmo07lqav0wfe2mtlzyspak</td>\n",
       "      <td>1</td>\n",
       "      <td>1</td>\n",
       "    </tr>\n",
       "    <tr>\n",
       "      <th>1</th>\n",
       "      <td>5r7lyj3frtml3aqy458jrxj4k</td>\n",
       "      <td>2024-07-28</td>\n",
       "      <td>920raeoumft3q2wmvc296uceo</td>\n",
       "      <td>7zibyotq1x1hq6pmgibhr0e6s</td>\n",
       "      <td>0</td>\n",
       "      <td>1</td>\n",
       "    </tr>\n",
       "    <tr>\n",
       "      <th>2</th>\n",
       "      <td>5ptnar4qtaltvcfsjdw9vzhg4</td>\n",
       "      <td>2024-07-27</td>\n",
       "      <td>6vyr13j6kbwdtxjwm1m4m8nu2</td>\n",
       "      <td>2989v3kho9h5jaboe1nr7lx21</td>\n",
       "      <td>1</td>\n",
       "      <td>0</td>\n",
       "    </tr>\n",
       "    <tr>\n",
       "      <th>3</th>\n",
       "      <td>5qqz2do47zjms7rfrwzcths7o</td>\n",
       "      <td>2024-07-28</td>\n",
       "      <td>1uk609mhtsfhokhaewjapb26</td>\n",
       "      <td>8y3iucyxguipljcmf87a11bk9</td>\n",
       "      <td>0</td>\n",
       "      <td>1</td>\n",
       "    </tr>\n",
       "    <tr>\n",
       "      <th>4</th>\n",
       "      <td>5pcyhm34h5c948yji4oryevpw</td>\n",
       "      <td>2024-07-27</td>\n",
       "      <td>cyrrlv6l1onld5x247w1q1jlr</td>\n",
       "      <td>bw9wm8pqfzcchumhiwdt2w15c</td>\n",
       "      <td>0</td>\n",
       "      <td>0</td>\n",
       "    </tr>\n",
       "    <tr>\n",
       "      <th>...</th>\n",
       "      <td>...</td>\n",
       "      <td>...</td>\n",
       "      <td>...</td>\n",
       "      <td>...</td>\n",
       "      <td>...</td>\n",
       "      <td>...</td>\n",
       "    </tr>\n",
       "    <tr>\n",
       "      <th>141</th>\n",
       "      <td>77w03jwg8cs1dkqemcax540t0</td>\n",
       "      <td>2024-12-13</td>\n",
       "      <td>b7jmo07lqav0wfe2mtlzyspak</td>\n",
       "      <td>7zibyotq1x1hq6pmgibhr0e6s</td>\n",
       "      <td>1</td>\n",
       "      <td>1</td>\n",
       "    </tr>\n",
       "    <tr>\n",
       "      <th>142</th>\n",
       "      <td>789p8p9wchivsno0m437haeqc</td>\n",
       "      <td>2024-12-15</td>\n",
       "      <td>2989v3kho9h5jaboe1nr7lx21</td>\n",
       "      <td>6vyr13j6kbwdtxjwm1m4m8nu2</td>\n",
       "      <td>0</td>\n",
       "      <td>2</td>\n",
       "    </tr>\n",
       "    <tr>\n",
       "      <th>143</th>\n",
       "      <td>78nndczlbj2214zhtbfahs2s4</td>\n",
       "      <td>2024-12-22</td>\n",
       "      <td>ecj1gmc7pqcjo4sc9hvghj5u3</td>\n",
       "      <td>1oyb7oym5nwzny8vxf03szd2h</td>\n",
       "      <td>2</td>\n",
       "      <td>2</td>\n",
       "    </tr>\n",
       "    <tr>\n",
       "      <th>144</th>\n",
       "      <td>791cri1kfsl6c1h5ozv0iqcyc</td>\n",
       "      <td>2024-12-22</td>\n",
       "      <td>89xivtxk59uzvhdsd6miao6tm</td>\n",
       "      <td>6vyr13j6kbwdtxjwm1m4m8nu2</td>\n",
       "      <td>2</td>\n",
       "      <td>0</td>\n",
       "    </tr>\n",
       "    <tr>\n",
       "      <th>145</th>\n",
       "      <td>79f5dbff5pb9kvzx13htimk9g</td>\n",
       "      <td>2024-12-22</td>\n",
       "      <td>5z1b7fuvpqe6vnigvopomvecu</td>\n",
       "      <td>8y3iucyxguipljcmf87a11bk9</td>\n",
       "      <td>0</td>\n",
       "      <td>1</td>\n",
       "    </tr>\n",
       "  </tbody>\n",
       "</table>\n",
       "<p>146 rows × 6 columns</p>\n",
       "</div>"
      ]
     },
     "execution_count": 10,
     "metadata": {},
     "output_type": "execute_result"
    }
   ],
   "execution_count": 10
  },
  {
   "cell_type": "code",
   "metadata": {
    "jupyter": {
     "is_executing": true
    },
    "ExecuteTime": {
     "start_time": "2025-04-01T09:13:53.854613Z"
    }
   },
   "source": [
    "tables = get_table_names()\n",
    "\n",
    "# count all rows in all tables\n",
    "def get_row_count(table_name):\n",
    "    query = f\"SELECT COUNT(*) FROM {table_name}\"\n",
    "    df = pd.read_sql(query, conn)\n",
    "    return df.iloc[0, 0]\n",
    "row_counts = {}\n",
    "\n",
    "for table in tables:\n",
    "    row_counts[table] = get_row_count(table)\n",
    "row_counts\n",
    "    "
   ],
   "outputs": [],
   "execution_count": null
  }
 ],
 "metadata": {
  "kernelspec": {
   "display_name": ".venv",
   "language": "python",
   "name": "python3"
  },
  "language_info": {
   "codemirror_mode": {
    "name": "ipython",
    "version": 3
   },
   "file_extension": ".py",
   "mimetype": "text/x-python",
   "name": "python",
   "nbconvert_exporter": "python",
   "pygments_lexer": "ipython3",
   "version": "3.13.2"
  }
 },
 "nbformat": 4,
 "nbformat_minor": 2
}
