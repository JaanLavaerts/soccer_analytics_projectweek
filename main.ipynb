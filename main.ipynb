{
 "cells": [
  {
   "cell_type": "code",
   "metadata": {
    "ExecuteTime": {
     "end_time": "2025-04-02T07:35:29.428041Z",
     "start_time": "2025-04-02T07:35:15.820009Z"
    }
   },
   "source": [
    "import pandas as pd\n",
    "from sqlalchemy import create_engine\n",
    "import dotenv\n",
    "import os\n",
    "from tabulate import tabulate\n",
    "import mplsoccer\n",
    "import matplotlib.pyplot as plt\n",
    "\n",
    "dotenv.load_dotenv()\n",
    "\n",
    "PG_PASSWORD = os.getenv(\"PG_PASSWORD\")\n",
    "PG_USER = os.getenv(\"PG_USER\")\n",
    "PG_HOST = os.getenv(\"PG_HOST\")\n",
    "PG_PORT = os.getenv(\"PG_PORT\")\n",
    "PG_DATABASE = os.getenv(\"PG_DB\")\n",
    "\n",
    "# SQLAlchemy engine\n",
    "engine = create_engine(\n",
    "    f\"postgresql+psycopg2://{PG_USER}:{PG_PASSWORD}@{PG_HOST}:{PG_PORT}/{PG_DATABASE}?sslmode=require\"\n",
    ")\n",
    "\n",
    "# Create a connection object from the engine\n",
    "conn = engine.connect()"
   ],
   "outputs": [],
   "execution_count": 2
  },
  {
   "cell_type": "code",
   "metadata": {
    "ExecuteTime": {
     "end_time": "2025-04-02T07:35:29.474652Z",
     "start_time": "2025-04-02T07:35:29.440266Z"
    }
   },
   "source": [
    "\n",
    "def get_table_names():\n",
    "    query = \"\"\"\n",
    "    SELECT table_name\n",
    "    FROM information_schema.tables\n",
    "    WHERE table_schema = 'public'\n",
    "    \"\"\"\n",
    "    df = pd.read_sql(query, conn)\n",
    "    return df[\"table_name\"].tolist()\n",
    "\n",
    "get_table_names()\n"
   ],
   "outputs": [
    {
     "data": {
      "text/plain": [
       "['eventtypes',\n",
       " 'matches',\n",
       " 'matchevents',\n",
       " 'player_tracking',\n",
       " 'players',\n",
       " 'qualifiers',\n",
       " 'qualifiertypes',\n",
       " 'spadl_actions',\n",
       " 'teams',\n",
       " 'role_passwords']"
      ]
     },
     "execution_count": 3,
     "metadata": {},
     "output_type": "execute_result"
    }
   ],
   "execution_count": 3
  },
  {
   "cell_type": "code",
   "metadata": {
    "ExecuteTime": {
     "end_time": "2025-04-02T07:35:29.527831Z",
     "start_time": "2025-04-02T07:35:29.509168Z"
    }
   },
   "source": [
    "def get_table_info(table_name):\n",
    "    query = f\"\"\"\n",
    "    SELECT column_name, data_type\n",
    "    FROM information_schema.columns\n",
    "    WHERE table_name = '{table_name}'\n",
    "    \"\"\"\n",
    "    df = pd.read_sql(query, conn)\n",
    "    print(tabulate(df, headers=\"keys\", tablefmt=\"psql\"))\n",
    "\n",
    "get_table_info(\"matches\")"
   ],
   "outputs": [
    {
     "name": "stdout",
     "output_type": "stream",
     "text": [
      "+----+---------------+-----------------------------+\n",
      "|    | column_name   | data_type                   |\n",
      "|----+---------------+-----------------------------|\n",
      "|  0 | match_id      | character varying           |\n",
      "|  1 | match_date    | timestamp without time zone |\n",
      "|  2 | home_team_id  | character varying           |\n",
      "|  3 | away_team_id  | character varying           |\n",
      "|  4 | home_score    | integer                     |\n",
      "|  5 | away_score    | integer                     |\n",
      "+----+---------------+-----------------------------+\n"
     ]
    }
   ],
   "execution_count": 4
  },
  {
   "cell_type": "code",
   "metadata": {
    "ExecuteTime": {
     "end_time": "2025-04-02T07:35:29.602538Z",
     "start_time": "2025-04-02T07:35:29.567823Z"
    }
   },
   "source": [
    "def get_table_rows(table_name):\n",
    "    query = f\"SELECT * FROM {table_name}\"\n",
    "    df = pd.read_sql(query, conn)\n",
    "    return df\n",
    "get_table_rows(\"matches\")\n"
   ],
   "outputs": [
    {
     "data": {
      "text/plain": [
       "                      match_id match_date               home_team_id  \\\n",
       "0    5oc8drrbruovbuiriyhdyiyok 2024-07-26  1oyb7oym5nwzny8vxf03szd2h   \n",
       "1    5r7lyj3frtml3aqy458jrxj4k 2024-07-28  920raeoumft3q2wmvc296uceo   \n",
       "2    5ptnar4qtaltvcfsjdw9vzhg4 2024-07-27  6vyr13j6kbwdtxjwm1m4m8nu2   \n",
       "3    5qqz2do47zjms7rfrwzcths7o 2024-07-28   1uk609mhtsfhokhaewjapb26   \n",
       "4    5pcyhm34h5c948yji4oryevpw 2024-07-27  cyrrlv6l1onld5x247w1q1jlr   \n",
       "..                         ...        ...                        ...   \n",
       "141  77w03jwg8cs1dkqemcax540t0 2024-12-13  b7jmo07lqav0wfe2mtlzyspak   \n",
       "142  789p8p9wchivsno0m437haeqc 2024-12-15  2989v3kho9h5jaboe1nr7lx21   \n",
       "143  78nndczlbj2214zhtbfahs2s4 2024-12-22  ecj1gmc7pqcjo4sc9hvghj5u3   \n",
       "144  791cri1kfsl6c1h5ozv0iqcyc 2024-12-22  89xivtxk59uzvhdsd6miao6tm   \n",
       "145  79f5dbff5pb9kvzx13htimk9g 2024-12-22  5z1b7fuvpqe6vnigvopomvecu   \n",
       "\n",
       "                  away_team_id  home_score  away_score  \n",
       "0    b7jmo07lqav0wfe2mtlzyspak           1           1  \n",
       "1    7zibyotq1x1hq6pmgibhr0e6s           0           1  \n",
       "2    2989v3kho9h5jaboe1nr7lx21           1           0  \n",
       "3    8y3iucyxguipljcmf87a11bk9           0           1  \n",
       "4    bw9wm8pqfzcchumhiwdt2w15c           0           0  \n",
       "..                         ...         ...         ...  \n",
       "141  7zibyotq1x1hq6pmgibhr0e6s           1           1  \n",
       "142  6vyr13j6kbwdtxjwm1m4m8nu2           0           2  \n",
       "143  1oyb7oym5nwzny8vxf03szd2h           2           2  \n",
       "144  6vyr13j6kbwdtxjwm1m4m8nu2           2           0  \n",
       "145  8y3iucyxguipljcmf87a11bk9           0           1  \n",
       "\n",
       "[146 rows x 6 columns]"
      ],
      "text/html": [
       "<div>\n",
       "<style scoped>\n",
       "    .dataframe tbody tr th:only-of-type {\n",
       "        vertical-align: middle;\n",
       "    }\n",
       "\n",
       "    .dataframe tbody tr th {\n",
       "        vertical-align: top;\n",
       "    }\n",
       "\n",
       "    .dataframe thead th {\n",
       "        text-align: right;\n",
       "    }\n",
       "</style>\n",
       "<table border=\"1\" class=\"dataframe\">\n",
       "  <thead>\n",
       "    <tr style=\"text-align: right;\">\n",
       "      <th></th>\n",
       "      <th>match_id</th>\n",
       "      <th>match_date</th>\n",
       "      <th>home_team_id</th>\n",
       "      <th>away_team_id</th>\n",
       "      <th>home_score</th>\n",
       "      <th>away_score</th>\n",
       "    </tr>\n",
       "  </thead>\n",
       "  <tbody>\n",
       "    <tr>\n",
       "      <th>0</th>\n",
       "      <td>5oc8drrbruovbuiriyhdyiyok</td>\n",
       "      <td>2024-07-26</td>\n",
       "      <td>1oyb7oym5nwzny8vxf03szd2h</td>\n",
       "      <td>b7jmo07lqav0wfe2mtlzyspak</td>\n",
       "      <td>1</td>\n",
       "      <td>1</td>\n",
       "    </tr>\n",
       "    <tr>\n",
       "      <th>1</th>\n",
       "      <td>5r7lyj3frtml3aqy458jrxj4k</td>\n",
       "      <td>2024-07-28</td>\n",
       "      <td>920raeoumft3q2wmvc296uceo</td>\n",
       "      <td>7zibyotq1x1hq6pmgibhr0e6s</td>\n",
       "      <td>0</td>\n",
       "      <td>1</td>\n",
       "    </tr>\n",
       "    <tr>\n",
       "      <th>2</th>\n",
       "      <td>5ptnar4qtaltvcfsjdw9vzhg4</td>\n",
       "      <td>2024-07-27</td>\n",
       "      <td>6vyr13j6kbwdtxjwm1m4m8nu2</td>\n",
       "      <td>2989v3kho9h5jaboe1nr7lx21</td>\n",
       "      <td>1</td>\n",
       "      <td>0</td>\n",
       "    </tr>\n",
       "    <tr>\n",
       "      <th>3</th>\n",
       "      <td>5qqz2do47zjms7rfrwzcths7o</td>\n",
       "      <td>2024-07-28</td>\n",
       "      <td>1uk609mhtsfhokhaewjapb26</td>\n",
       "      <td>8y3iucyxguipljcmf87a11bk9</td>\n",
       "      <td>0</td>\n",
       "      <td>1</td>\n",
       "    </tr>\n",
       "    <tr>\n",
       "      <th>4</th>\n",
       "      <td>5pcyhm34h5c948yji4oryevpw</td>\n",
       "      <td>2024-07-27</td>\n",
       "      <td>cyrrlv6l1onld5x247w1q1jlr</td>\n",
       "      <td>bw9wm8pqfzcchumhiwdt2w15c</td>\n",
       "      <td>0</td>\n",
       "      <td>0</td>\n",
       "    </tr>\n",
       "    <tr>\n",
       "      <th>...</th>\n",
       "      <td>...</td>\n",
       "      <td>...</td>\n",
       "      <td>...</td>\n",
       "      <td>...</td>\n",
       "      <td>...</td>\n",
       "      <td>...</td>\n",
       "    </tr>\n",
       "    <tr>\n",
       "      <th>141</th>\n",
       "      <td>77w03jwg8cs1dkqemcax540t0</td>\n",
       "      <td>2024-12-13</td>\n",
       "      <td>b7jmo07lqav0wfe2mtlzyspak</td>\n",
       "      <td>7zibyotq1x1hq6pmgibhr0e6s</td>\n",
       "      <td>1</td>\n",
       "      <td>1</td>\n",
       "    </tr>\n",
       "    <tr>\n",
       "      <th>142</th>\n",
       "      <td>789p8p9wchivsno0m437haeqc</td>\n",
       "      <td>2024-12-15</td>\n",
       "      <td>2989v3kho9h5jaboe1nr7lx21</td>\n",
       "      <td>6vyr13j6kbwdtxjwm1m4m8nu2</td>\n",
       "      <td>0</td>\n",
       "      <td>2</td>\n",
       "    </tr>\n",
       "    <tr>\n",
       "      <th>143</th>\n",
       "      <td>78nndczlbj2214zhtbfahs2s4</td>\n",
       "      <td>2024-12-22</td>\n",
       "      <td>ecj1gmc7pqcjo4sc9hvghj5u3</td>\n",
       "      <td>1oyb7oym5nwzny8vxf03szd2h</td>\n",
       "      <td>2</td>\n",
       "      <td>2</td>\n",
       "    </tr>\n",
       "    <tr>\n",
       "      <th>144</th>\n",
       "      <td>791cri1kfsl6c1h5ozv0iqcyc</td>\n",
       "      <td>2024-12-22</td>\n",
       "      <td>89xivtxk59uzvhdsd6miao6tm</td>\n",
       "      <td>6vyr13j6kbwdtxjwm1m4m8nu2</td>\n",
       "      <td>2</td>\n",
       "      <td>0</td>\n",
       "    </tr>\n",
       "    <tr>\n",
       "      <th>145</th>\n",
       "      <td>79f5dbff5pb9kvzx13htimk9g</td>\n",
       "      <td>2024-12-22</td>\n",
       "      <td>5z1b7fuvpqe6vnigvopomvecu</td>\n",
       "      <td>8y3iucyxguipljcmf87a11bk9</td>\n",
       "      <td>0</td>\n",
       "      <td>1</td>\n",
       "    </tr>\n",
       "  </tbody>\n",
       "</table>\n",
       "<p>146 rows × 6 columns</p>\n",
       "</div>"
      ]
     },
     "execution_count": 5,
     "metadata": {},
     "output_type": "execute_result"
    }
   ],
   "execution_count": 5
  },
  {
   "cell_type": "code",
   "metadata": {
    "ExecuteTime": {
     "end_time": "2025-04-02T07:35:30.607440Z",
     "start_time": "2025-04-02T07:35:29.805034Z"
    }
   },
   "source": [
    "tables = get_table_names()\n",
    "\n",
    "# count all rows in all tables\n",
    "def get_row_count(table_name):\n",
    "    query = f\"SELECT COUNT(*) FROM {table_name}\"\n",
    "    df = pd.read_sql(query, conn)\n",
    "    return df.iloc[0, 0]\n",
    "row_counts = {}\n",
    "\n",
    "for table in tables:\n",
    "    row_counts[table] = get_row_count(table)\n",
    "row_counts\n"
   ],
   "outputs": [
    {
     "data": {
      "text/plain": [
       "{'eventtypes': np.int64(36),\n",
       " 'matches': np.int64(146),\n",
       " 'matchevents': np.int64(218848),\n",
       " 'player_tracking': np.int64(18510936),\n",
       " 'players': np.int64(487),\n",
       " 'qualifiers': np.int64(106049),\n",
       " 'qualifiertypes': np.int64(41),\n",
       " 'spadl_actions': np.int64(242450),\n",
       " 'teams': np.int64(16),\n",
       " 'role_passwords': np.int64(129)}"
      ]
     },
     "execution_count": 6,
     "metadata": {},
     "output_type": "execute_result"
    }
   ],
   "execution_count": 6
  },
  {
   "metadata": {},
   "cell_type": "markdown",
   "source": [
    "# Where do unoccupied spaces regularly appear in defense?\n",
    "Helps detect consistent blind spots. Useful for adjusting positioning or player roles"
   ]
  },
  {
   "metadata": {
    "ExecuteTime": {
     "end_time": "2025-04-02T07:35:30.689447Z",
     "start_time": "2025-04-02T07:35:30.654985Z"
    }
   },
   "cell_type": "code",
   "source": [
    "print(\"Info about match events table:\")\n",
    "get_table_info(\"matchevents\")\n",
    "print(\"There is a timestamp column in the match events table.\")\n",
    "print(\"\\n\")\n",
    "\n",
    "print(\"Info about player tracking table:\")\n",
    "get_table_info(\"player_tracking\")\n",
    "print(\"There is a timestamp column in the player tracking table.\")\n",
    "print(\"\\n\")\n",
    "\n",
    "print(\"We can map the timestamps to see where the players are when the other team is doing attacking events.\")"
   ],
   "outputs": [
    {
     "name": "stdout",
     "output_type": "stream",
     "text": [
      "Info about match events table:\n",
      "+----+--------------------+-------------------+\n",
      "|    | column_name        | data_type         |\n",
      "|----+--------------------+-------------------|\n",
      "|  0 | match_id           | character varying |\n",
      "|  1 | event_id           | character varying |\n",
      "|  2 | eventtype_id       | character varying |\n",
      "|  3 | result             | character varying |\n",
      "|  4 | success            | boolean           |\n",
      "|  5 | period_id          | integer           |\n",
      "|  6 | timestamp          | character varying |\n",
      "|  7 | end_timestamp      | character varying |\n",
      "|  8 | ball_state         | character varying |\n",
      "|  9 | ball_owning_team   | character varying |\n",
      "| 10 | team_id            | character varying |\n",
      "| 11 | player_id          | character varying |\n",
      "| 12 | x                  | double precision  |\n",
      "| 13 | y                  | double precision  |\n",
      "| 14 | end_coordinates_x  | double precision  |\n",
      "| 15 | end_coordinates_y  | double precision  |\n",
      "| 16 | receiver_player_id | character varying |\n",
      "+----+--------------------+-------------------+\n",
      "There is a timestamp column in the match events table.\n",
      "\n",
      "\n",
      "Info about player tracking table:\n",
      "+----+---------------+-------------------+\n",
      "|    | column_name   | data_type         |\n",
      "|----+---------------+-------------------|\n",
      "|  0 | id            | integer           |\n",
      "|  1 | game_id       | character varying |\n",
      "|  2 | frame_id      | bigint            |\n",
      "|  3 | timestamp     | character varying |\n",
      "|  4 | period_id     | integer           |\n",
      "|  5 | player_id     | character varying |\n",
      "|  6 | x             | double precision  |\n",
      "|  7 | y             | double precision  |\n",
      "+----+---------------+-------------------+\n",
      "There is a timestamp column in the player tracking table.\n",
      "\n",
      "\n",
      "We can map the timestamps to see where the players are when the other team is doing attacking events.\n"
     ]
    }
   ],
   "execution_count": 7
  },
  {
   "metadata": {
    "ExecuteTime": {
     "end_time": "2025-04-02T07:35:35.745710Z",
     "start_time": "2025-04-02T07:35:30.750735Z"
    }
   },
   "cell_type": "code",
   "source": [
    "def unoccupied_defensive_spaces(match_id, our_team_id):\n",
    "    # Step 1: Load only data for the selected match\n",
    "    events_query = f\"SELECT * FROM matchevents WHERE match_id = '{match_id}'\"\n",
    "    events_df = pd.read_sql(events_query, conn)\n",
    "\n",
    "    tracking_query = f\"SELECT * FROM player_tracking WHERE game_id = '{match_id}'\"\n",
    "    tracking_df = pd.read_sql(tracking_query, conn)\n",
    "\n",
    "    # Step 2: Get timestamps when the opponent is attacking\n",
    "    opponent_attack_events = events_df[events_df[\"ball_owning_team\"] != our_team_id]\n",
    "    opponent_timestamps = opponent_attack_events[\"timestamp\"].unique()\n",
    "\n",
    "    # Step 3: Get your team's player_ids (active in the match)\n",
    "    our_players = events_df[\n",
    "        (events_df[\"team_id\"] == our_team_id) &\n",
    "        (events_df[\"player_id\"].notnull())\n",
    "    ][\"player_id\"].unique()\n",
    "\n",
    "    # Step 4: Filter player tracking data during opponent attacks\n",
    "    our_tracking_during_defense = tracking_df[\n",
    "        (tracking_df[\"player_id\"].isin(our_players)) &\n",
    "        (tracking_df[\"timestamp\"].isin(opponent_timestamps))\n",
    "    ]\n",
    "\n",
    "    # Step 5: Plot heatmap of defensive positions\n",
    "    pitch = mplsoccer.Pitch(pitch_type='statsbomb', pitch_color='white', line_color='black')\n",
    "    fig, ax = pitch.draw(figsize=(10, 7))\n",
    "\n",
    "    x = our_tracking_during_defense[\"x\"].values\n",
    "    y = our_tracking_during_defense[\"y\"].values\n",
    "\n",
    "    bin_statistic = pitch.bin_statistic(x, y, statistic='count', bins=(30, 20), normalize=True)\n",
    "    pcm = pitch.heatmap(bin_statistic, ax=ax, cmap='viridis_r')  # brighter = less presence\n",
    "\n",
    "    # Add colorbar\n",
    "    fig.colorbar(pcm, ax=ax, label='Defensive Presence\\n(Normalized)')\n",
    "\n",
    "    # Title\n",
    "    ax.set_title(f\"Unoccupied Defensive Spaces\\nMatch ID: {match_id}\", fontsize=14)\n",
    "\n",
    "    plt.show()\n",
    "\n",
    "unoccupied_defensive_spaces(match_id=\"5pcyhm34h5c948yji4oryevpw\", our_team_id=\"bw9wm8pqfzcchumhiwdt2w15c\")\n"
   ],
   "outputs": [
    {
     "name": "stderr",
     "output_type": "stream",
     "text": [
      "/Users/iannauwelaers/Documents/School/2024-2025/Semester2/Advanced_AI/InternationalWeek/soccer_analytics_projectweek/.venv/lib/python3.13/site-packages/mplsoccer/heatmap.py:135: RuntimeWarning: invalid value encountered in divide\n",
      "  statistic = statistic / statistic.sum()\n"
     ]
    },
    {
     "data": {
      "text/plain": [
       "<Figure size 1000x700 with 2 Axes>"
      ],
      "image/png": "[encoded data removed]"
     },
     "metadata": {},
     "output_type": "display_data"
    }
   ],
   "execution_count": 8
  }
 ],
 "metadata": {
  "kernelspec": {
   "display_name": ".venv",
   "language": "python",
   "name": "python3"
  },
  "language_info": {
   "codemirror_mode": {
    "name": "ipython",
    "version": 3
   },
   "file_extension": ".py",
   "mimetype": "text/x-python",
   "name": "python",
   "nbconvert_exporter": "python",
   "pygments_lexer": "ipython3",
   "version": "3.13.2"
  }
 },
 "nbformat": 4,
 "nbformat_minor": 2
}
